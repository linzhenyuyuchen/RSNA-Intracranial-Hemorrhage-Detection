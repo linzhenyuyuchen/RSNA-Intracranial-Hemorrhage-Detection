{
 "cells": [
  {
   "cell_type": "code",
   "execution_count": 1,
   "metadata": {},
   "outputs": [],
   "source": [
    "import pandas as pd"
   ]
  },
  {
   "cell_type": "code",
   "execution_count": 2,
   "metadata": {},
   "outputs": [
    {
     "name": "stdout",
     "output_type": "stream",
     "text": [
      "1\n"
     ]
    }
   ],
   "source": [
    "\n",
    "csv_path = [\n",
    "    './rsna/beforemix/submission_fold0_epoch2tta.csv',\n",
    "    './rsna/beforemix/submission_fold1_epoch2tta.csv',\n",
    "    './rsna/beforemix/submission_fold2_epoch2tta.csv',\n",
    "    './rsna/beforemix/submission_fold4_epoch2tta.csv',\n",
    "]\n",
    "print(1)\n",
    "df = pd.read_csv(csv_path[0])\n",
    "#df.head\n"
   ]
  },
  {
   "cell_type": "code",
   "execution_count": 3,
   "metadata": {},
   "outputs": [
    {
     "name": "stdout",
     "output_type": "stream",
     "text": [
      "2\n",
      "3\n",
      "4\n"
     ]
    },
    {
     "data": {
      "text/plain": [
       "<bound method NDFrame.head of                                    ID     Label\n",
       "0               ID_0fbf6a978_epidural  0.047847\n",
       "1       ID_0fbf6a978_intraparenchymal  0.071161\n",
       "2       ID_0fbf6a978_intraventricular  0.039180\n",
       "3           ID_0fbf6a978_subarachnoid  0.206639\n",
       "4               ID_0fbf6a978_subdural  0.187429\n",
       "...                               ...       ...\n",
       "727387  ID_6b455e140_intraparenchymal  0.001746\n",
       "727388  ID_6b455e140_intraventricular  0.000587\n",
       "727389      ID_6b455e140_subarachnoid  0.001927\n",
       "727390          ID_6b455e140_subdural  0.003737\n",
       "727391               ID_6b455e140_any  0.007194\n",
       "\n",
       "[727392 rows x 2 columns]>"
      ]
     },
     "execution_count": 3,
     "metadata": {},
     "output_type": "execute_result"
    }
   ],
   "source": [
    "for i in range(len(csv_path)-1):\n",
    "    print(i+2)\n",
    "    tmp = pd.read_csv(csv_path[i+1])\n",
    "    df['Label'] += tmp['Label']\n",
    "df['Label'] /= len(csv_path)\n",
    "\n",
    "df.head"
   ]
  },
  {
   "cell_type": "code",
   "execution_count": 4,
   "metadata": {},
   "outputs": [],
   "source": [
    "df.to_csv('./rsna/aftermix/se_net50_fold0124.csv',index=False)"
   ]
  },
  {
   "cell_type": "code",
   "execution_count": null,
   "metadata": {},
   "outputs": [],
   "source": []
  }
 ],
 "metadata": {
  "kernelspec": {
   "display_name": "Python 3",
   "language": "python",
   "name": "python3"
  },
  "language_info": {
   "codemirror_mode": {
    "name": "ipython",
    "version": 3
   },
   "file_extension": ".py",
   "mimetype": "text/x-python",
   "name": "python",
   "nbconvert_exporter": "python",
   "pygments_lexer": "ipython3",
   "version": "3.7.4"
  }
 },
 "nbformat": 4,
 "nbformat_minor": 2
}
