{
 "cells": [
  {
   "cell_type": "code",
   "execution_count": 128,
   "metadata": {},
   "outputs": [],
   "source": [
    "import matplotlib.pyplot as plt"
   ]
  },
  {
   "cell_type": "code",
   "execution_count": 129,
   "metadata": {},
   "outputs": [],
   "source": [
    "import pandas as pd"
   ]
  },
  {
   "cell_type": "code",
   "execution_count": 130,
   "metadata": {},
   "outputs": [],
   "source": [
    "df = pd.read_csv('./rsna/se_resnet50_submission01234.csv')"
   ]
  },
  {
   "cell_type": "code",
   "execution_count": 131,
   "metadata": {},
   "outputs": [
    {
     "data": {
      "text/html": [
       "<div>\n",
       "<style scoped>\n",
       "    .dataframe tbody tr th:only-of-type {\n",
       "        vertical-align: middle;\n",
       "    }\n",
       "\n",
       "    .dataframe tbody tr th {\n",
       "        vertical-align: top;\n",
       "    }\n",
       "\n",
       "    .dataframe thead th {\n",
       "        text-align: right;\n",
       "    }\n",
       "</style>\n",
       "<table border=\"1\" class=\"dataframe\">\n",
       "  <thead>\n",
       "    <tr style=\"text-align: right;\">\n",
       "      <th></th>\n",
       "      <th>ID</th>\n",
       "      <th>Label</th>\n",
       "    </tr>\n",
       "  </thead>\n",
       "  <tbody>\n",
       "    <tr>\n",
       "      <td>0</td>\n",
       "      <td>ID_28fbab7eb_epidural</td>\n",
       "      <td>0.000014</td>\n",
       "    </tr>\n",
       "    <tr>\n",
       "      <td>1</td>\n",
       "      <td>ID_28fbab7eb_intraparenchymal</td>\n",
       "      <td>0.000163</td>\n",
       "    </tr>\n",
       "    <tr>\n",
       "      <td>2</td>\n",
       "      <td>ID_28fbab7eb_intraventricular</td>\n",
       "      <td>0.000008</td>\n",
       "    </tr>\n",
       "    <tr>\n",
       "      <td>3</td>\n",
       "      <td>ID_28fbab7eb_subarachnoid</td>\n",
       "      <td>0.000328</td>\n",
       "    </tr>\n",
       "    <tr>\n",
       "      <td>4</td>\n",
       "      <td>ID_28fbab7eb_subdural</td>\n",
       "      <td>0.000188</td>\n",
       "    </tr>\n",
       "    <tr>\n",
       "      <td>5</td>\n",
       "      <td>ID_28fbab7eb_any</td>\n",
       "      <td>0.000787</td>\n",
       "    </tr>\n",
       "    <tr>\n",
       "      <td>6</td>\n",
       "      <td>ID_877923b8b_epidural</td>\n",
       "      <td>0.000240</td>\n",
       "    </tr>\n",
       "    <tr>\n",
       "      <td>7</td>\n",
       "      <td>ID_877923b8b_intraparenchymal</td>\n",
       "      <td>0.001028</td>\n",
       "    </tr>\n",
       "    <tr>\n",
       "      <td>8</td>\n",
       "      <td>ID_877923b8b_intraventricular</td>\n",
       "      <td>0.000067</td>\n",
       "    </tr>\n",
       "    <tr>\n",
       "      <td>9</td>\n",
       "      <td>ID_877923b8b_subarachnoid</td>\n",
       "      <td>0.004542</td>\n",
       "    </tr>\n",
       "    <tr>\n",
       "      <td>10</td>\n",
       "      <td>ID_877923b8b_subdural</td>\n",
       "      <td>0.023367</td>\n",
       "    </tr>\n",
       "    <tr>\n",
       "      <td>11</td>\n",
       "      <td>ID_877923b8b_any</td>\n",
       "      <td>0.028729</td>\n",
       "    </tr>\n",
       "  </tbody>\n",
       "</table>\n",
       "</div>"
      ],
      "text/plain": [
       "                               ID     Label\n",
       "0           ID_28fbab7eb_epidural  0.000014\n",
       "1   ID_28fbab7eb_intraparenchymal  0.000163\n",
       "2   ID_28fbab7eb_intraventricular  0.000008\n",
       "3       ID_28fbab7eb_subarachnoid  0.000328\n",
       "4           ID_28fbab7eb_subdural  0.000188\n",
       "5                ID_28fbab7eb_any  0.000787\n",
       "6           ID_877923b8b_epidural  0.000240\n",
       "7   ID_877923b8b_intraparenchymal  0.001028\n",
       "8   ID_877923b8b_intraventricular  0.000067\n",
       "9       ID_877923b8b_subarachnoid  0.004542\n",
       "10          ID_877923b8b_subdural  0.023367\n",
       "11               ID_877923b8b_any  0.028729"
      ]
     },
     "execution_count": 131,
     "metadata": {},
     "output_type": "execute_result"
    }
   ],
   "source": [
    "df.head(12)"
   ]
  },
  {
   "cell_type": "code",
   "execution_count": 132,
   "metadata": {},
   "outputs": [
    {
     "data": {
      "text/plain": [
       "<bound method NDFrame.head of         ID     Label      Image         Diagnosis\n",
       "0       ID  0.000014  28fbab7eb          epidural\n",
       "1       ID  0.000163  28fbab7eb  intraparenchymal\n",
       "2       ID  0.000008  28fbab7eb  intraventricular\n",
       "3       ID  0.000328  28fbab7eb      subarachnoid\n",
       "4       ID  0.000188  28fbab7eb          subdural\n",
       "...     ..       ...        ...               ...\n",
       "471265  ID  0.000120  d47269109  intraparenchymal\n",
       "471266  ID  0.000219  d47269109  intraventricular\n",
       "471267  ID  0.000418  d47269109      subarachnoid\n",
       "471268  ID  0.000295  d47269109          subdural\n",
       "471269  ID  0.001237  d47269109               any\n",
       "\n",
       "[471270 rows x 4 columns]>"
      ]
     },
     "execution_count": 132,
     "metadata": {},
     "output_type": "execute_result"
    }
   ],
   "source": [
    "df[['ID', 'Image', 'Diagnosis']]=df['ID'].str.split('_',expand=True)\n",
    "df.head"
   ]
  },
  {
   "cell_type": "code",
   "execution_count": 133,
   "metadata": {},
   "outputs": [],
   "source": [
    "df['ID']='ID_'+  df['Image']"
   ]
  },
  {
   "cell_type": "code",
   "execution_count": 134,
   "metadata": {},
   "outputs": [
    {
     "data": {
      "text/html": [
       "<div>\n",
       "<style scoped>\n",
       "    .dataframe tbody tr th:only-of-type {\n",
       "        vertical-align: middle;\n",
       "    }\n",
       "\n",
       "    .dataframe tbody tr th {\n",
       "        vertical-align: top;\n",
       "    }\n",
       "\n",
       "    .dataframe thead th {\n",
       "        text-align: right;\n",
       "    }\n",
       "</style>\n",
       "<table border=\"1\" class=\"dataframe\">\n",
       "  <thead>\n",
       "    <tr style=\"text-align: right;\">\n",
       "      <th></th>\n",
       "      <th>ID</th>\n",
       "      <th>Label</th>\n",
       "      <th>Image</th>\n",
       "      <th>Diagnosis</th>\n",
       "    </tr>\n",
       "  </thead>\n",
       "  <tbody>\n",
       "    <tr>\n",
       "      <td>0</td>\n",
       "      <td>ID_28fbab7eb</td>\n",
       "      <td>0.000014</td>\n",
       "      <td>28fbab7eb</td>\n",
       "      <td>epidural</td>\n",
       "    </tr>\n",
       "    <tr>\n",
       "      <td>1</td>\n",
       "      <td>ID_28fbab7eb</td>\n",
       "      <td>0.000163</td>\n",
       "      <td>28fbab7eb</td>\n",
       "      <td>intraparenchymal</td>\n",
       "    </tr>\n",
       "    <tr>\n",
       "      <td>2</td>\n",
       "      <td>ID_28fbab7eb</td>\n",
       "      <td>0.000008</td>\n",
       "      <td>28fbab7eb</td>\n",
       "      <td>intraventricular</td>\n",
       "    </tr>\n",
       "    <tr>\n",
       "      <td>3</td>\n",
       "      <td>ID_28fbab7eb</td>\n",
       "      <td>0.000328</td>\n",
       "      <td>28fbab7eb</td>\n",
       "      <td>subarachnoid</td>\n",
       "    </tr>\n",
       "    <tr>\n",
       "      <td>4</td>\n",
       "      <td>ID_28fbab7eb</td>\n",
       "      <td>0.000188</td>\n",
       "      <td>28fbab7eb</td>\n",
       "      <td>subdural</td>\n",
       "    </tr>\n",
       "  </tbody>\n",
       "</table>\n",
       "</div>"
      ],
      "text/plain": [
       "             ID     Label      Image         Diagnosis\n",
       "0  ID_28fbab7eb  0.000014  28fbab7eb          epidural\n",
       "1  ID_28fbab7eb  0.000163  28fbab7eb  intraparenchymal\n",
       "2  ID_28fbab7eb  0.000008  28fbab7eb  intraventricular\n",
       "3  ID_28fbab7eb  0.000328  28fbab7eb      subarachnoid\n",
       "4  ID_28fbab7eb  0.000188  28fbab7eb          subdural"
      ]
     },
     "execution_count": 134,
     "metadata": {},
     "output_type": "execute_result"
    }
   ],
   "source": [
    "df.head()"
   ]
  },
  {
   "cell_type": "code",
   "execution_count": 135,
   "metadata": {},
   "outputs": [],
   "source": [
    "tmp = df[['ID','Label','Diagnosis']]"
   ]
  },
  {
   "cell_type": "code",
   "execution_count": 137,
   "metadata": {
    "scrolled": true
   },
   "outputs": [
    {
     "data": {
      "image/png": "[encoded data removed]",
      "text/plain": [
       "<Figure size 432x288 with 1 Axes>"
      ]
     },
     "metadata": {
      "needs_background": "light"
     },
     "output_type": "display_data"
    }
   ],
   "source": [
    "positve_r = tmp[tmp['Label']<0.00065]\n",
    "negative_r = tmp[tmp['Label']>0.00065]\n",
    "plt.bar(['1','0'],[len(positve_r),len(negative_r)])\n",
    "plt.show()"
   ]
  },
  {
   "cell_type": "code",
   "execution_count": 142,
   "metadata": {},
   "outputs": [],
   "source": [
    "import seaborn as sns"
   ]
  },
  {
   "cell_type": "code",
   "execution_count": 144,
   "metadata": {},
   "outputs": [
    {
     "name": "stdout",
     "output_type": "stream",
     "text": [
      "0.000024    89\n",
      "0.000046    89\n",
      "0.000003    89\n",
      "0.000124    89\n",
      "0.000002    89\n",
      "            ..\n",
      "0.003085     1\n",
      "0.126810     1\n",
      "0.042697     1\n",
      "0.001192     1\n",
      "0.000909     1\n",
      "Name: Label, Length: 470740, dtype: int64\n"
     ]
    }
   ],
   "source": [
    "print(tmp.Label.value_counts())"
   ]
  },
  {
   "cell_type": "code",
   "execution_count": null,
   "metadata": {},
   "outputs": [],
   "source": [
    "\n",
    "sns.countplot(x='Label', data=tmp)"
   ]
  },
  {
   "cell_type": "code",
   "execution_count": 145,
   "metadata": {},
   "outputs": [
    {
     "data": {
      "image/png": "[encoded data removed]",
      "text/plain": [
       "<Figure size 432x288 with 1 Axes>"
      ]
     },
     "metadata": {
      "needs_background": "light"
     },
     "output_type": "display_data"
    }
   ],
   "source": [
    "\n",
    "positve_r = tmp[tmp['Label']<0.00065]\n",
    "negative_r = tmp[tmp['Label']>0.00065]\n",
    "plt.bar(['1','0'],[len(positve_r),len(negative_r)])\n",
    "plt.show()"
   ]
  },
  {
   "cell_type": "code",
   "execution_count": 146,
   "metadata": {},
   "outputs": [],
   "source": [
    "epidural = tmp[tmp.Diagnosis=='epidural']\n",
    "intraparenchymal = tmp[tmp.Diagnosis=='intraparenchymal']\n",
    "intraventricular = tmp[tmp.Diagnosis=='intraventricular']\n",
    "subarachnoid = tmp[tmp.Diagnosis=='subarachnoid']\n",
    "subdural = tmp[tmp.Diagnosis=='subdural']\n",
    "any_ = tmp[tmp.Diagnosis=='any']"
   ]
  },
  {
   "cell_type": "code",
   "execution_count": 155,
   "metadata": {},
   "outputs": [],
   "source": [
    "yu = 0.5"
   ]
  },
  {
   "cell_type": "code",
   "execution_count": 164,
   "metadata": {},
   "outputs": [
    {
     "data": {
      "image/png": "[encoded data removed]",
      "text/plain": [
       "<Figure size 432x288 with 1 Axes>"
      ]
     },
     "metadata": {
      "needs_background": "light"
     },
     "output_type": "display_data"
    }
   ],
   "source": [
    "epidural_tmp = epidural[epidural['Label']>yu]\n",
    "e_num = len(epidural_tmp['Label'])\n",
    "plt.hist(epidural_tmp['Label']) \n",
    "plt.title(\"epidural\") \n",
    "plt.show()"
   ]
  },
  {
   "cell_type": "code",
   "execution_count": 165,
   "metadata": {},
   "outputs": [
    {
     "data": {
      "image/png": "[encoded data removed]",
      "text/plain": [
       "<Figure size 432x288 with 1 Axes>"
      ]
     },
     "metadata": {
      "needs_background": "light"
     },
     "output_type": "display_data"
    }
   ],
   "source": [
    "intraparenchymal_tmp = intraparenchymal[intraparenchymal['Label']>yu]\n",
    "ip_num = len(intraparenchymal_tmp['Label'])\n",
    "plt.hist(intraparenchymal_tmp['Label']) \n",
    "plt.title(\"intraparenchymal\") \n",
    "plt.show()"
   ]
  },
  {
   "cell_type": "code",
   "execution_count": 166,
   "metadata": {},
   "outputs": [
    {
     "data": {
      "image/png": "[encoded data removed]",
      "text/plain": [
       "<Figure size 432x288 with 1 Axes>"
      ]
     },
     "metadata": {
      "needs_background": "light"
     },
     "output_type": "display_data"
    }
   ],
   "source": [
    "intraventricular_tmp = intraventricular[intraventricular['Label']>yu]\n",
    "iv_num = len(intraventricular_tmp['Label'])\n",
    "plt.hist(intraventricular_tmp['Label']) \n",
    "plt.title(\"intraventricular\") \n",
    "plt.show()"
   ]
  },
  {
   "cell_type": "code",
   "execution_count": 167,
   "metadata": {},
   "outputs": [
    {
     "data": {
      "image/png": "[encoded data removed]",
      "text/plain": [
       "<Figure size 432x288 with 1 Axes>"
      ]
     },
     "metadata": {
      "needs_background": "light"
     },
     "output_type": "display_data"
    }
   ],
   "source": [
    "subarachnoid_tmp = subarachnoid[subarachnoid['Label']>yu]\n",
    "sa_num = len(subarachnoid_tmp['Label'])\n",
    "plt.hist(subarachnoid_tmp['Label']) \n",
    "plt.title(\"subarachnoid\") \n",
    "plt.show()"
   ]
  },
  {
   "cell_type": "code",
   "execution_count": 168,
   "metadata": {},
   "outputs": [
    {
     "data": {
      "image/png": "[encoded data removed]",
      "text/plain": [
       "<Figure size 432x288 with 1 Axes>"
      ]
     },
     "metadata": {
      "needs_background": "light"
     },
     "output_type": "display_data"
    }
   ],
   "source": [
    "subdural_tmp = subdural[subdural['Label']>yu]\n",
    "sd_num = len(subdural_tmp['Label'])\n",
    "plt.hist(subdural_tmp['Label']) \n",
    "plt.title(\"subdural\") \n",
    "plt.show()"
   ]
  },
  {
   "cell_type": "code",
   "execution_count": 169,
   "metadata": {},
   "outputs": [
    {
     "data": {
      "image/png": "[encoded data removed]",
      "text/plain": [
       "<Figure size 432x288 with 1 Axes>"
      ]
     },
     "metadata": {
      "needs_background": "light"
     },
     "output_type": "display_data"
    }
   ],
   "source": [
    "any__tmp = any_[any_['Label']>yu]\n",
    "any_num = len(any__tmp['Label'])\n",
    "plt.hist(any__tmp['Label']) \n",
    "plt.title(\"any\") \n",
    "plt.show()"
   ]
  },
  {
   "cell_type": "code",
   "execution_count": 170,
   "metadata": {},
   "outputs": [
    {
     "name": "stdout",
     "output_type": "stream",
     "text": [
      "85 2943 2086 2442 3317 9290\n"
     ]
    }
   ],
   "source": [
    "print(e_num,ip_num,iv_num,sa_num,sd_num,any_num)\n",
    "nums = [e_num,ip_num,iv_num,sa_num,sd_num,any_num]\n",
    "types = ['epidural', 'intraparenchymal', 'intraventricular', 'subarachnoid', 'subdural', 'any']"
   ]
  },
  {
   "cell_type": "code",
   "execution_count": 171,
   "metadata": {},
   "outputs": [
    {
     "data": {
      "image/png": "[encoded data removed]",
      "text/plain": [
       "<Figure size 432x288 with 1 Axes>"
      ]
     },
     "metadata": {
      "needs_background": "light"
     },
     "output_type": "display_data"
    }
   ],
   "source": [
    "plt.bar(types,nums)\n",
    "plt.show()"
   ]
  },
  {
   "cell_type": "code",
   "execution_count": null,
   "metadata": {},
   "outputs": [],
   "source": []
  },
  {
   "cell_type": "code",
   "execution_count": null,
   "metadata": {},
   "outputs": [],
   "source": []
  },
  {
   "cell_type": "code",
   "execution_count": null,
   "metadata": {},
   "outputs": [],
   "source": []
  },
  {
   "cell_type": "code",
   "execution_count": null,
   "metadata": {},
   "outputs": [],
   "source": []
  }
 ],
 "metadata": {
  "kernelspec": {
   "display_name": "Python 3",
   "language": "python",
   "name": "python3"
  },
  "language_info": {
   "codemirror_mode": {
    "name": "ipython",
    "version": 3
   },
   "file_extension": ".py",
   "mimetype": "text/x-python",
   "name": "python",
   "nbconvert_exporter": "python",
   "pygments_lexer": "ipython3",
   "version": "3.7.4"
  }
 },
 "nbformat": 4,
 "nbformat_minor": 2
}
